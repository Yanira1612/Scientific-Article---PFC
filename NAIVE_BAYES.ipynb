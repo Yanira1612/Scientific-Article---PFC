{
  "nbformat": 4,
  "nbformat_minor": 0,
  "metadata": {
    "colab": {
      "provenance": []
    },
    "kernelspec": {
      "name": "python3",
      "display_name": "Python 3"
    },
    "language_info": {
      "name": "python"
    }
  },
  "cells": [
    {
      "cell_type": "code",
      "source": [
        "import re\n",
        "from collections import defaultdict\n",
        "\n",
        "class NaiveBayesClassifier:\n",
        "    def __init__(self):\n",
        "        self.class_probabilities = defaultdict(float)\n",
        "        self.feature_probabilities = defaultdict(lambda: defaultdict(float))\n",
        "        self.feature_counts = defaultdict(lambda: defaultdict(int))\n",
        "        self.classes = set()\n",
        "\n",
        "    def clean_text(self, text):\n",
        "        # Limpieza.\n",
        "        text = re.sub(r'\\W', ' ', text)\n",
        "        return text.lower().split()\n",
        "\n",
        "    def train(self, documents):\n",
        "      for document, label in documents:\n",
        "          self.classes.add(label)\n",
        "          for word in self.clean_text(document):\n",
        "              self.feature_counts[label][word] += 1\n",
        "\n",
        "      total_documents = len(documents)\n",
        "      for label in self.classes:\n",
        "          self.class_probabilities[label] = sum(1 for _, l in documents if l == label) / total_documents\n",
        "          total_words = sum(self.feature_counts[label].values())\n",
        "          for word in self.feature_counts[label]:\n",
        "              self.feature_probabilities[label][word] = self.feature_counts[label][word] / total_words\n",
        "\n",
        "    def predict(self, document):\n",
        "        document_words = set(self.clean_text(document))\n",
        "        scores = {}\n",
        "\n",
        "        for label in self.classes:\n",
        "            scores[label] = 0\n",
        "            for word in document_words:\n",
        "                if word in self.feature_probabilities[label]:\n",
        "                    scores[label] += self.feature_probabilities[label][word]\n",
        "\n",
        "            scores[label] += self.class_probabilities[label]\n",
        "\n",
        "        return max(scores, key=scores.get)\n",
        "\n",
        "# Ejemplo de uso:\n",
        "training_data = [\n",
        "    (\"good movie\", \"positive\"),\n",
        "    (\"bad experience\", \"negative\"),\n",
        "    (\"not bad\", \"positive\"),\n",
        "    (\"awful movie\", \"negative\"),\n",
        "    (\"I think the movie was not very funny , but was not just bored\", \"neutral\"),\n",
        "    (\"I do not think was bored\", \"neutral\")\n",
        "]\n",
        "\n",
        "classifier = NaiveBayesClassifier()\n",
        "classifier.train(training_data)\n",
        "\n",
        "test_document = \"I think it is OK\"\n",
        "prediction = classifier.predict(test_document)\n",
        "print(f\"The document is predicted as: {prediction}\")"
      ],
      "metadata": {
        "colab": {
          "base_uri": "https://localhost:8080/"
        },
        "id": "Ovm8B23gekqx",
        "outputId": "82452de4-b142-4b74-c34c-13cfd0b92fd5"
      },
      "execution_count": 4,
      "outputs": [
        {
          "output_type": "stream",
          "name": "stdout",
          "text": [
            "The document is predicted as: neutral\n"
          ]
        }
      ]
    }
  ]
}